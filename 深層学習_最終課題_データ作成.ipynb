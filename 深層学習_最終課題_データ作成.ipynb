{
  "nbformat": 4,
  "nbformat_minor": 0,
  "metadata": {
    "colab": {
      "provenance": []
    },
    "kernelspec": {
      "name": "python3",
      "display_name": "Python 3"
    },
    "language_info": {
      "name": "python"
    }
  },
  "cells": [
    {
      "cell_type": "code",
      "source": [
        "import matplotlib.pyplot as plt\n",
        "import numpy as np\n",
        "import random"
      ],
      "metadata": {
        "id": "wFoJGwUYh16b"
      },
      "execution_count": 2,
      "outputs": []
    },
    {
      "cell_type": "code",
      "source": [
        "def pt(table):\n",
        "    for i in range(len(table)):\n",
        "        print(table[i])\n",
        "\n",
        "def pt_plt(table):\n",
        "    height = len(table)\n",
        "    width = len(table[0])\n",
        "\n",
        "    # plt.axis('equal')\n",
        "    plt.xlim(0,1)\n",
        "    plt.ylim(0,1)\n",
        "    for i in range(height):\n",
        "        for j in range(width):\n",
        "            if table[i][j][0]:\n",
        "                plt.scatter(j/width, i/height, color='black', marker = 's')\n",
        "    plt.show()\n"
      ],
      "metadata": {
        "id": "QgeNv1IBgAXq"
      },
      "execution_count": 3,
      "outputs": []
    },
    {
      "cell_type": "code",
      "source": [
        "def setClock(map, xcenter, ycenter, r, width, height, hour):\n",
        "    clock = hour\n",
        "    theta_clock = -2*np.pi*clock/12 + np.pi/2\n",
        "    for i in range(width):\n",
        "        r_clock = r * i /width\n",
        "        x = xcenter + int(r_clock*np.cos(theta_clock))\n",
        "        y = ycenter + int(r_clock*np.sin(theta_clock))\n",
        "        if (x>=0 and x< width) and (y>=0 and y< height):\n",
        "            map[y][x][0] = 1\n",
        "\n",
        "def createMap(width, height):\n",
        "    map = [[[0] for i in range(width)]for i in range(height)]\n",
        "    xcenter = int(width //2 + width//4*random.uniform(-1, 1))\n",
        "    ycenter = int(height//2 + height//4*random.uniform(-1, 1))\n",
        "    r = (width //4)*(1+random.random())\n",
        "    for i in range(2*(width+height)):\n",
        "        theta = 2*np.pi*i/(2*(width+height))\n",
        "        x = xcenter + int(r*np.cos(theta))\n",
        "        y = ycenter + int(r*np.sin(theta))\n",
        "        if (x>=0 and x< width) and (y>=0 and y< height):\n",
        "            map[y][x][0] = 1\n",
        "    return xcenter, ycenter, r, map"
      ],
      "metadata": {
        "id": "KHMp2Dk9nPEP"
      },
      "execution_count": 4,
      "outputs": []
    },
    {
      "cell_type": "code",
      "execution_count": 86,
      "metadata": {
        "colab": {
          "base_uri": "https://localhost:8080/",
          "height": 453
        },
        "id": "R5tuU6Fpfn9p",
        "outputId": "95401571-4045-47b1-ed81-2d35a2b30c37"
      },
      "outputs": [
        {
          "output_type": "stream",
          "name": "stdout",
          "text": [
            "3\n"
          ]
        },
        {
          "output_type": "display_data",
          "data": {
            "text/plain": [
              "<Figure size 640x480 with 1 Axes>"
            ],
            "image/png": "[encoded data removed]"
          },
          "metadata": {}
        }
      ],
      "source": [
        "#create a round frame\n",
        "width = height = 32\n",
        "xcenter, ycenter,r,  map = createMap(width, height)\n",
        "\n",
        "#set hour\n",
        "clock = 12*random.random()\n",
        "setClock(map, xcenter, ycenter, r, width, height, clock)\n",
        "print(int(clock))\n",
        "\n",
        "pt\n",
        "pt_plt(map)"
      ]
    },
    {
      "cell_type": "code",
      "source": [
        "# ドライブのマウント\n",
        "from google.colab import drive\n",
        "drive.mount('/content/drive')"
      ],
      "metadata": {
        "colab": {
          "base_uri": "https://localhost:8080/"
        },
        "id": "HOA5vWSOgInC",
        "outputId": "4efcc0d4-3c2c-458a-ed99-963625eb42d7"
      },
      "execution_count": 5,
      "outputs": [
        {
          "output_type": "stream",
          "name": "stdout",
          "text": [
            "Mounted at /content/drive\n"
          ]
        }
      ]
    },
    {
      "cell_type": "code",
      "source": [
        "x_train = np.load('drive/MyDrive/Colab Notebooks/DLBasics2023_colab/Lecture05/data/x_train.npy')\n",
        "t_train = np.load('drive/MyDrive/Colab Notebooks/DLBasics2023_colab/Lecture05/data/t_train.npy')"
      ],
      "metadata": {
        "id": "zWXLEP4TsyoZ"
      },
      "execution_count": 75,
      "outputs": []
    },
    {
      "cell_type": "code",
      "source": [
        "#学習データ作成\n",
        "num_data = 50000\n",
        "x_data = []\n",
        "t_data = []\n",
        "for i in range(num_data):\n",
        "    width = height = 32\n",
        "    #create a round frame\n",
        "    xcenter, ycenter,r,  map = createMap(width, height)\n",
        "\n",
        "    #set hour\n",
        "    clock = 12*random.random()\n",
        "    setClock(map, xcenter, ycenter, r, width, height, clock)\n",
        "\n",
        "    x_data.append(map)\n",
        "    t_data.append(int(clock))\n",
        "    if i %1000 ==0:\n",
        "        print('{}/{}'.format(i, num_data))\n",
        "\n",
        "x_data = np.array(x_data)\n",
        "t_data = np.array(t_data)"
      ],
      "metadata": {
        "colab": {
          "base_uri": "https://localhost:8080/"
        },
        "id": "gWc88ge9vBDZ",
        "outputId": "5ae79ebd-5c48-439b-e522-0918d0bb163b"
      },
      "execution_count": null,
      "outputs": [
        {
          "output_type": "stream",
          "name": "stdout",
          "text": [
            "0/50000\n",
            "1000/50000\n",
            "2000/50000\n",
            "3000/50000\n",
            "4000/50000\n",
            "5000/50000\n",
            "6000/50000\n",
            "7000/50000\n",
            "8000/50000\n",
            "9000/50000\n",
            "10000/50000\n",
            "11000/50000\n",
            "12000/50000\n",
            "13000/50000\n",
            "14000/50000\n",
            "15000/50000\n",
            "16000/50000\n",
            "17000/50000\n",
            "18000/50000\n",
            "19000/50000\n",
            "20000/50000\n",
            "21000/50000\n",
            "22000/50000\n",
            "23000/50000\n",
            "24000/50000\n",
            "25000/50000\n",
            "26000/50000\n",
            "27000/50000\n",
            "28000/50000\n",
            "29000/50000\n",
            "30000/50000\n",
            "31000/50000\n",
            "32000/50000\n"
          ]
        }
      ]
    },
    {
      "cell_type": "code",
      "source": [
        "print(x_data.shape)\n",
        "print(t_data.shape)"
      ],
      "metadata": {
        "colab": {
          "base_uri": "https://localhost:8080/"
        },
        "id": "yJskkYMzwIVC",
        "outputId": "70efc005-e81c-4896-857c-7113dad7e0ca"
      },
      "execution_count": 107,
      "outputs": [
        {
          "output_type": "stream",
          "name": "stdout",
          "text": [
            "(10000, 32, 32, 1)\n",
            "(10000,)\n"
          ]
        }
      ]
    },
    {
      "cell_type": "code",
      "source": [
        "np.save('drive/MyDrive/Colab Notebooks/DLBasics2023_colab/FinalAssignment/data/x_test.npy', x_data)\n",
        "np.save('drive/MyDrive/Colab Notebooks/DLBasics2023_colab/FinalAssignment/data/t_test.npy', t_data)"
      ],
      "metadata": {
        "id": "_lH36HARwlqB"
      },
      "execution_count": 108,
      "outputs": []
    },
    {
      "cell_type": "code",
      "source": [],
      "metadata": {
        "id": "-ef-Hh2ZyQKG"
      },
      "execution_count": null,
      "outputs": []
    }
  ]
}