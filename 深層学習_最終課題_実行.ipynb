{
  "nbformat": 4,
  "nbformat_minor": 0,
  "metadata": {
    "colab": {
      "provenance": [],
      "gpuType": "T4"
    },
    "kernelspec": {
      "name": "python3",
      "display_name": "Python 3"
    },
    "language_info": {
      "name": "python"
    },
    "accelerator": "GPU"
  },
  "cells": [
    {
      "cell_type": "code",
      "execution_count": 1,
      "metadata": {
        "colab": {
          "base_uri": "https://localhost:8080/"
        },
        "id": "cBSj5clW05dY",
        "outputId": "9155859f-9803-48f5-f09b-7b177e93b741"
      },
      "outputs": [
        {
          "output_type": "stream",
          "name": "stdout",
          "text": [
            "Mounted at /content/drive\n"
          ]
        }
      ],
      "source": [
        "# ドライブのマウント\n",
        "from google.colab import drive\n",
        "drive.mount('/content/drive')"
      ]
    },
    {
      "cell_type": "code",
      "source": [
        "import random\n",
        "\n",
        "import numpy as np\n",
        "import pandas as pd\n",
        "import torch\n",
        "from torchvision import transforms\n",
        "from tqdm import tqdm_notebook as tqdm\n",
        "from PIL import Image\n",
        "from sklearn.model_selection import train_test_split\n",
        "\n",
        "#学習データ\n",
        "x_train = np.load('drive/MyDrive/Colab Notebooks/DLBasics2023_colab/FinalAssignment/data/x_train.npy')\n",
        "t_train = np.load('drive/MyDrive/Colab Notebooks/DLBasics2023_colab/FinalAssignment/data/t_train.npy')\n",
        "\n",
        "#テストデータ\n",
        "x_test = np.load('drive/MyDrive/Colab Notebooks/DLBasics2023_colab/FinalAssignment/data/x_test.npy')\n",
        "t_test = np.load('drive/MyDrive/Colab Notebooks/DLBasics2023_colab/FinalAssignment/data/t_test.npy')\n",
        "\n",
        "class train_dataset(torch.utils.data.Dataset):\n",
        "    def __init__(self, x_train, t_train):\n",
        "        data = x_train.astype('float32')\n",
        "        self.x_train = []\n",
        "        for i in range(data.shape[0]):\n",
        "            self.x_train.append(Image.fromarray(np.uint8(data[i].squeeze(-1))))\n",
        "        self.t_train = t_train\n",
        "        self.transform = transforms.ToTensor()\n",
        "\n",
        "    def __len__(self):\n",
        "        return len(self.x_train)\n",
        "\n",
        "    def __getitem__(self, idx):\n",
        "        return self.transform(self.x_train[idx]), torch.tensor(t_train[idx], dtype=torch.long)\n",
        "\n",
        "class test_dataset(torch.utils.data.Dataset):\n",
        "    def __init__(self, x_test):\n",
        "        data = x_test.astype('float32')\n",
        "        self.x_test = []\n",
        "        for i in range(data.shape[0]):\n",
        "            self.x_test.append(Image.fromarray(np.uint8(data[i].squeeze(-1))))\n",
        "        self.transform = transforms.ToTensor()\n",
        "\n",
        "    def __len__(self):\n",
        "        return len(self.x_test)\n",
        "\n",
        "    def __getitem__(self, idx):\n",
        "        return self.transform(self.x_test[idx])\n",
        "\n",
        "trainval_data = train_dataset(x_train, t_train)\n",
        "test_data = train_dataset(x_test, t_test)      #評価するため"
      ],
      "metadata": {
        "id": "RDxbDcrYEa_O"
      },
      "execution_count": 2,
      "outputs": []
    },
    {
      "cell_type": "code",
      "source": [
        "print(x_train.shape)\n",
        "print(t_test.shape)"
      ],
      "metadata": {
        "colab": {
          "base_uri": "https://localhost:8080/"
        },
        "id": "75m3eKwFMgFq",
        "outputId": "6622a315-5a78-463a-9c50-58bbf16ef8f2"
      },
      "execution_count": 3,
      "outputs": [
        {
          "output_type": "stream",
          "name": "stdout",
          "text": [
            "(50000, 32, 32, 1)\n",
            "(10000,)\n"
          ]
        }
      ]
    },
    {
      "cell_type": "code",
      "source": [
        "def fix_seed(seed=1234):\n",
        "    random.seed(seed)\n",
        "    np.random.seed(seed)\n",
        "    torch.manual_seed(seed)\n",
        "\n",
        "\n",
        "fix_seed(seed=42)\n",
        "\n",
        "\n",
        "class gcn():\n",
        "    def __init__(self):\n",
        "        pass\n",
        "\n",
        "    def __call__(self, x):\n",
        "        mean = torch.mean(x)\n",
        "        std = torch.std(x)\n",
        "        return (x - mean)/(std + 10**(-6))  # 0除算を防ぐ\n",
        "\n",
        "\n",
        "class ZCAWhitening():\n",
        "    def __init__(self, epsilon=1e-4, device=\"cuda\"):  # 計算が重いのでGPUを用いる\n",
        "        self.epsilon = epsilon\n",
        "        self.device = device\n",
        "\n",
        "    def fit(self, images):  # 変換行列と平均をデータから計算\n",
        "        x = images[0][0].reshape(1, -1)\n",
        "        self.mean = torch.zeros([1, x.size()[1]]).to(self.device)\n",
        "        con_matrix = torch.zeros([x.size()[1], x.size()[1]]).to(self.device)\n",
        "        for i in range(len(images)):  # 各データについての平均を取る\n",
        "            x = images[i][0].reshape(1, -1).to(self.device)\n",
        "            self.mean += x / len(images)\n",
        "            con_matrix += torch.mm(x.t(), x) / len(images)\n",
        "            if i % 10000 == 0:\n",
        "                print(\"{0}/{1}\".format(i, len(images)))\n",
        "        self.E, self.V = torch.linalg.eigh(con_matrix)  # 固有値分解\n",
        "        self.E = torch.max(self.E, torch.zeros_like(self.E)) # 誤差の影響で負になるのを防ぐ\n",
        "        self.ZCA_matrix = torch.mm(torch.mm(self.V, torch.diag((self.E.squeeze()+self.epsilon)**(-0.5))), self.V.t())\n",
        "        print(\"completed!\")\n",
        "\n",
        "    def __call__(self, x):\n",
        "        size = x.size()\n",
        "        x = x.reshape(1, -1).to(self.device)\n",
        "        x -= self.mean\n",
        "        x = torch.mm(x, self.ZCA_matrix.t())\n",
        "        x = x.reshape(tuple(size))\n",
        "        x = x.to(\"cpu\")\n",
        "        return x\n",
        "\n",
        "\n",
        "# (datasetのクラスを自作したので，このあたりの処理が少し変わっています)\n",
        "\n",
        "zca = ZCAWhitening()\n",
        "zca.fit(trainval_data)          #これはトレーニングデータについてのみ行う\n",
        "\n",
        "val_size = 10000\n",
        "train_data, val_data = torch.utils.data.random_split(trainval_data, [len(trainval_data)-val_size, val_size])  # 訓練データと検証データに分割\n",
        "\n",
        "\n",
        "# 前処理を定義\n",
        "transform_train = transforms.Compose([transforms.ToTensor(), zca])# WRITE ME\n",
        "\n",
        "transform = transforms.Compose([transforms.ToTensor(), zca])# WRITE ME\n",
        "\n",
        "# このままではきちんと前処理がtrainval_dataに適用されるのか？\n",
        "# データセットに前処理を設定\n",
        "trainval_data.transform = transform_train       #for train_data and val_data\n",
        "test_data.transform = transform\n",
        "\n",
        "batch_size = 128\n",
        "\n",
        "dataloader_train = torch.utils.data.DataLoader(\n",
        "    train_data,\n",
        "    batch_size=batch_size,\n",
        "    shuffle=True\n",
        ")\n",
        "\n",
        "dataloader_valid = torch.utils.data.DataLoader(\n",
        "    val_data,\n",
        "    batch_size=batch_size,\n",
        "    shuffle=True\n",
        ")\n",
        "\n",
        "dataloader_test = torch.utils.data.DataLoader(\n",
        "    test_data,\n",
        "    batch_size=batch_size,\n",
        "    shuffle=False\n",
        ")\n"
      ],
      "metadata": {
        "colab": {
          "base_uri": "https://localhost:8080/"
        },
        "id": "1EdlB-33H51a",
        "outputId": "82e1ebd8-ccf8-48d2-a4c2-5a71de53a8ec"
      },
      "execution_count": 10,
      "outputs": [
        {
          "output_type": "stream",
          "name": "stdout",
          "text": [
            "0/50000\n",
            "10000/50000\n",
            "20000/50000\n",
            "30000/50000\n",
            "40000/50000\n",
            "completed!\n"
          ]
        }
      ]
    },
    {
      "cell_type": "code",
      "source": [
        "import torch.nn as nn\n",
        "import torch.optim as optim\n",
        "import torch.autograd as autograd\n",
        "import torch.nn.functional as F\n",
        "\n",
        "rng = np.random.RandomState(1234)\n",
        "random_state = 42\n",
        "device = torch.device(\"cuda\" if torch.cuda.is_available() else \"cpu\")\n",
        "\n",
        "\n",
        "conv_net = nn.Sequential(\n",
        "    nn.Conv2d(1, 64, kernel_size=3, padding=1),\n",
        "    nn.BatchNorm2d(64),\n",
        "    nn.ReLU(inplace=True),\n",
        "    nn.Conv2d(64, 64, kernel_size=3, padding=1),\n",
        "    nn.BatchNorm2d(64),\n",
        "    nn.ReLU(inplace=True),\n",
        "    nn.MaxPool2d(kernel_size=2, stride=2),\n",
        "    nn.Dropout(0.23),                       #追加\n",
        "\n",
        "\n",
        "    nn.Conv2d(64, 128, kernel_size=3, padding=1),\n",
        "    nn.BatchNorm2d(128),\n",
        "    nn.ReLU(inplace=True),\n",
        "    nn.Conv2d(128, 128, kernel_size=3, padding=1),\n",
        "    nn.BatchNorm2d(128),\n",
        "    nn.ReLU(inplace=True),\n",
        "    nn.MaxPool2d(kernel_size=2, stride=2),\n",
        "    nn.Dropout(0.4),                       #追加\n",
        "\n",
        "\n",
        "    nn.Conv2d(128, 256, kernel_size=3, padding=1),\n",
        "    nn.BatchNorm2d(256),\n",
        "    nn.ReLU(inplace=True),\n",
        "    nn.Conv2d(256, 256, kernel_size=3, padding=1),\n",
        "    nn.BatchNorm2d(256),\n",
        "    nn.ReLU(inplace=True),\n",
        "    nn.Conv2d(256, 256, kernel_size=3, padding=1),\n",
        "    nn.BatchNorm2d(256),\n",
        "    nn.ReLU(inplace=True),\n",
        "    nn.MaxPool2d(kernel_size=2, stride=2),\n",
        "    nn.Dropout(0.31),                       #追加\n",
        "\n",
        "\n",
        "    nn.Conv2d(256, 512, kernel_size=3, padding=1),\n",
        "    nn.BatchNorm2d(512),\n",
        "    nn.ReLU(inplace=True),\n",
        "    nn.Conv2d(512, 512, kernel_size=3, padding=1),\n",
        "    nn.BatchNorm2d(512),\n",
        "    nn.ReLU(inplace=True),\n",
        "    nn.Conv2d(512, 512, kernel_size=3, padding=1),\n",
        "    nn.BatchNorm2d(512),\n",
        "    nn.ReLU(inplace=True),\n",
        "    nn.MaxPool2d(kernel_size=2, stride=2),\n",
        "    nn.Dropout(0.3),                       #追加\n",
        "\n",
        "\n",
        "    nn.Conv2d(512, 512, kernel_size=3, padding=1),\n",
        "    nn.BatchNorm2d(512),\n",
        "    nn.ReLU(inplace=True),\n",
        "    nn.Conv2d(512, 512, kernel_size=3, padding=1),\n",
        "    nn.BatchNorm2d(512),\n",
        "    nn.ReLU(inplace=True),\n",
        "    nn.Conv2d(512, 512, kernel_size=3, padding=1),\n",
        "    nn.BatchNorm2d(512),\n",
        "    nn.ReLU(inplace=True),\n",
        "    nn.AvgPool2d(kernel_size=2, stride=2),  #元は最大値プーリング\n",
        "    nn.Dropout(0.27),                       #追加\n",
        "\n",
        "    nn.Flatten(),\n",
        "    nn.Linear(512, 4096),\n",
        "    nn.ReLU(inplace=True),\n",
        "    nn.Linear(4096, 4096),\n",
        "    nn.ReLU(inplace=True),\n",
        "    nn.Linear(4096, 12)  # 最終的な出力クラス数は12（時間）\n",
        ")   #VGG16を実装\n",
        "\n",
        "\n",
        "def init_weights(m):  # Heの初期化\n",
        "    if type(m) == nn.Linear or type(m) == nn.Conv2d:\n",
        "        torch.nn.init.kaiming_normal_(m.weight)\n",
        "        m.bias.data.fill_(0.0)\n",
        "\n",
        "\n",
        "conv_net.apply(init_weights)\n",
        "#conv.load_state_dict(torch.load('drive/MyDrive/Colab Notebooks/DLBasics2023_colab/Lecture5_sub/model_weight.pth'))\n",
        "\n",
        "n_epochs = 5\n",
        "lr = 0.001\n",
        "device = 'cuda'\n",
        "\n",
        "conv_net.to(device)\n",
        "optimizer = optim.Adam(conv_net.parameters(), lr=lr)# WRITE ME\n",
        "loss_function = nn.CrossEntropyLoss()# WRITE ME ここでsoftmax関数の仕組みがあるのでconv_netに入れなくてよかった。"
      ],
      "metadata": {
        "id": "12KRyWZtIkAc"
      },
      "execution_count": 12,
      "outputs": []
    },
    {
      "cell_type": "code",
      "source": [
        "for epoch in range(n_epochs):\n",
        "    losses_train = []\n",
        "    losses_valid = []\n",
        "\n",
        "    conv_net.train()\n",
        "    n_train = 0\n",
        "    acc_train = 0\n",
        "    accmax = 0  #accuracyの最大を保存\n",
        "    for x, t in dataloader_train:\n",
        "        # WRITE ME\n",
        "        n_train += t.size()[0]\n",
        "\n",
        "        conv_net.zero_grad()  # 勾配の初期化\n",
        "\n",
        "        x = x.to(device)  # テンソルをGPUに移動\n",
        "        t = t.to(device)\n",
        "\n",
        "        y = conv_net.forward(x)  # 順伝播\n",
        "\n",
        "        loss = loss_function(y, t)  # 誤差(クロスエントロピー誤差関数)の計算\n",
        "\n",
        "        loss.backward()  # 誤差の逆伝播\n",
        "\n",
        "        optimizer.step()  # パラメータの更新\n",
        "\n",
        "        pred = y.argmax(1)  # 最大値を取るラベルを予測ラベルとする\n",
        "\n",
        "        acc_train += (pred == t).float().sum().item()\n",
        "        losses_train.append(loss.tolist())\n",
        "\n",
        "    conv_net.eval()\n",
        "    n_val = 0\n",
        "    acc_val = 0\n",
        "    for x, t in dataloader_valid:\n",
        "        # WRITE ME\n",
        "        n_val += t.size()[0]\n",
        "\n",
        "        x = x.to(device)  # テンソルをGPUに移動\n",
        "        t = t.to(device)\n",
        "\n",
        "        y = conv_net.forward(x)  # 順伝播\n",
        "\n",
        "        loss = loss_function(y, t)  # 誤差(クロスエントロピー誤差関数)の計算\n",
        "\n",
        "        pred = y.argmax(1)  # 最大値を取るラベルを予測ラベルとする\n",
        "\n",
        "        acc_val += (pred == t).float().sum().item()\n",
        "        losses_valid.append(loss.tolist())\n",
        "\n",
        "        #最大値の時の重みを保存\n",
        "        if acc_val/n_val > accmax:\n",
        "            torch.save(conv_net.state_dict(), 'drive/MyDrive/Colab Notebooks/DLBasics2023_colab/FinalAssignment/model_weightValid.pth')\n",
        "            accmax = acc_val / n_val\n",
        "\n",
        "\n",
        "    print('EPOCH: {}, Train [Loss: {:.3f}, Accuracy: {:.3f}], Valid [Loss: {:.3f}, Accuracy: {:.3f}]'.format(\n",
        "        epoch,\n",
        "        np.mean(losses_train),\n",
        "        acc_train/n_train,\n",
        "        np.mean(losses_valid),\n",
        "        acc_val/n_val\n",
        "    ))"
      ],
      "metadata": {
        "colab": {
          "base_uri": "https://localhost:8080/"
        },
        "id": "ohP2Cx7rI8Sn",
        "outputId": "107357f5-48cd-4270-b1cc-7dd641ec7aec"
      },
      "execution_count": 13,
      "outputs": [
        {
          "output_type": "stream",
          "name": "stdout",
          "text": [
            "EPOCH: 0, Train [Loss: 1.684, Accuracy: 0.362], Valid [Loss: 1.037, Accuracy: 0.451]\n",
            "EPOCH: 1, Train [Loss: 0.558, Accuracy: 0.758], Valid [Loss: 0.405, Accuracy: 0.852]\n",
            "EPOCH: 2, Train [Loss: 0.264, Accuracy: 0.893], Valid [Loss: 0.182, Accuracy: 0.922]\n",
            "EPOCH: 3, Train [Loss: 0.228, Accuracy: 0.904], Valid [Loss: 0.128, Accuracy: 0.933]\n",
            "EPOCH: 4, Train [Loss: 0.217, Accuracy: 0.905], Valid [Loss: 0.283, Accuracy: 0.897]\n"
          ]
        }
      ]
    },
    {
      "cell_type": "code",
      "source": [
        "torch.save(conv_net.state_dict(), 'drive/MyDrive/Colab Notebooks/DLBasics2023_colab/FinalAssignment/model_weightValid.pth')"
      ],
      "metadata": {
        "id": "H7k90bMaYRpy"
      },
      "execution_count": 14,
      "outputs": []
    },
    {
      "cell_type": "code",
      "source": [
        "#評価\n",
        "model = conv_net\n",
        "model.load_state_dict(torch.load(\"/content/drive/MyDrive/Colab Notebooks/DLBasics2023_colab/FinalAssignment/model_weightValid.pth\", map_location=device))\n",
        "model = model.to(device)\n",
        "model.eval()\n",
        "n_val = 0\n",
        "acc_val = 0\n",
        "i = 0\n",
        "for x, t in dataloader_valid:\n",
        "    i += 1\n",
        "    # WRITE ME\n",
        "    n_val += t.size()[0]\n",
        "\n",
        "    x = x.to(device)  # テンソルをGPUに移動\n",
        "    t = t.to(device)\n",
        "\n",
        "    y = model.forward(x)  # 順伝播\n",
        "\n",
        "    # loss = loss_function(y, t)  # 誤差(クロスエントロピー誤差関数)の計算\n",
        "\n",
        "    # if i%10==0:\n",
        "    #     print('i = {}'.format(i), t)\n",
        "    pred = y.argmax(1)  # 最大値を取るラベルを予測ラベルとする\n",
        "\n",
        "    acc_val += (pred == t).float().sum().item()\n",
        "print(i)\n",
        "print('Test : Accuracy: {:.3f}]'.format(acc_val/n_val))"
      ],
      "metadata": {
        "colab": {
          "base_uri": "https://localhost:8080/"
        },
        "id": "_k-jUfLEKe_Q",
        "outputId": "101c854f-2a95-4083-b80a-cc2dedfa994a"
      },
      "execution_count": 16,
      "outputs": [
        {
          "output_type": "stream",
          "name": "stdout",
          "text": [
            "79\n",
            "Test : Accuracy: 0.897]\n"
          ]
        }
      ]
    },
    {
      "cell_type": "code",
      "source": [
        "import matplotlib.pyplot as plt\n",
        "def pt_plt(table):\n",
        "    height = len(table)\n",
        "    width = len(table[0])\n",
        "\n",
        "    # plt.axis('equal')\n",
        "    plt.xlim(0,1)\n",
        "    plt.ylim(0,1)\n",
        "    for i in range(height):\n",
        "        for j in range(width):\n",
        "            if table[i][j][0]:\n",
        "                plt.scatter(j/width, i/height, color='black', marker = 's')\n",
        "    plt.show()"
      ],
      "metadata": {
        "id": "gJfnQRygSM0t"
      },
      "execution_count": 9,
      "outputs": []
    },
    {
      "cell_type": "code",
      "source": [
        "for i in range(10):\n",
        "    pt_plt(x_test[i])\n",
        "    print(t_test[i])"
      ],
      "metadata": {
        "colab": {
          "base_uri": "https://localhost:8080/",
          "height": 1000
        },
        "id": "8TzbffMKZVJI",
        "outputId": "3781f30a-437b-4c6c-c537-95128e27a657"
      },
      "execution_count": 7,
      "outputs": [
        {
          "output_type": "display_data",
          "data": {
            "text/plain": [
              "<Figure size 640x480 with 1 Axes>"
            ],
            "image/png": "[encoded data removed]"
          },
          "metadata": {}
        },
        {
          "output_type": "stream",
          "name": "stdout",
          "text": [
            "10\n"
          ]
        },
        {
          "output_type": "display_data",
          "data": {
            "text/plain": [
              "<Figure size 640x480 with 1 Axes>"
            ],
            "image/png": "[encoded data removed]"
          },
          "metadata": {}
        },
        {
          "output_type": "stream",
          "name": "stdout",
          "text": [
            "3\n"
          ]
        },
        {
          "output_type": "display_data",
          "data": {
            "text/plain": [
              "<Figure size 640x480 with 1 Axes>"
            ],
            "image/png": "[encoded data removed]"
          },
          "metadata": {}
        },
        {
          "output_type": "stream",
          "name": "stdout",
          "text": [
            "9\n"
          ]
        },
        {
          "output_type": "display_data",
          "data": {
            "text/plain": [
              "<Figure size 640x480 with 1 Axes>"
            ],
            "image/png": "[encoded data removed]"
          },
          "metadata": {}
        },
        {
          "output_type": "stream",
          "name": "stdout",
          "text": [
            "6\n"
          ]
        },
        {
          "output_type": "display_data",
          "data": {
            "text/plain": [
              "<Figure size 640x480 with 1 Axes>"
            ],
            "image/png": "[encoded data removed]"
          },
          "metadata": {}
        },
        {
          "output_type": "stream",
          "name": "stdout",
          "text": [
            "2\n"
          ]
        },
        {
          "output_type": "display_data",
          "data": {
            "text/plain": [
              "<Figure size 640x480 with 1 Axes>"
            ],
            "image/png": "[encoded data removed]"
          },
          "metadata": {}
        },
        {
          "output_type": "stream",
          "name": "stdout",
          "text": [
            "11\n"
          ]
        },
        {
          "output_type": "display_data",
          "data": {
            "text/plain": [
              "<Figure size 640x480 with 1 Axes>"
            ],
            "image/png": "[encoded data removed]"
          },
          "metadata": {}
        },
        {
          "output_type": "stream",
          "name": "stdout",
          "text": [
            "11\n"
          ]
        },
        {
          "output_type": "display_data",
          "data": {
            "text/plain": [
              "<Figure size 640x480 with 1 Axes>"
            ],
            "image/png": "[encoded data removed]"
          },
          "metadata": {}
        },
        {
          "output_type": "stream",
          "name": "stdout",
          "text": [
            "5\n"
          ]
        },
        {
          "output_type": "display_data",
          "data": {
            "text/plain": [
              "<Figure size 640x480 with 1 Axes>"
            ],
            "image/png": "[encoded data removed]"
          },
          "metadata": {}
        },
        {
          "output_type": "stream",
          "name": "stdout",
          "text": [
            "2\n"
          ]
        },
        {
          "output_type": "display_data",
          "data": {
            "text/plain": [
              "<Figure size 640x480 with 1 Axes>"
            ],
            "image/png": "[encoded data removed]"
          },
          "metadata": {}
        },
        {
          "output_type": "stream",
          "name": "stdout",
          "text": [
            "9\n"
          ]
        }
      ]
    },
    {
      "cell_type": "code",
      "source": [],
      "metadata": {
        "id": "IfHqmVh3acK4"
      },
      "execution_count": null,
      "outputs": []
    }
  ]
}